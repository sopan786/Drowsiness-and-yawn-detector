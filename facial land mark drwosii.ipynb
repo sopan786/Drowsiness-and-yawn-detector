{
 "cells": [
  {
   "cell_type": "code",
   "execution_count": 2,
   "id": "composite-activity",
   "metadata": {},
   "outputs": [],
   "source": [
    "import cv2\n",
    "import dlib\n",
    "import imutils \n",
    "from imutils import face_utils \n",
    "from scipy.spatial import distance\n",
    "from playsound import playsound"
   ]
  },
  {
   "cell_type": "code",
   "execution_count": 3,
   "id": "sharing-accountability",
   "metadata": {},
   "outputs": [],
   "source": [
    "def calculate_EAR(eye):\n",
    "    A = distance.euclidean(eye[1], eye[5])\n",
    "    B = distance.euclidean(eye[2], eye[4])\n",
    "    C = distance.euclidean(eye[0], eye[3])\n",
    "    ear_aspect_ratio = (A+B)/(2.0*C)\n",
    "    return ear_aspect_ratio"
   ]
  },
  {
   "cell_type": "code",
   "execution_count": 4,
   "id": "european-ghana",
   "metadata": {},
   "outputs": [],
   "source": [
    "def calculate_MAR(mouth): \n",
    "    A = distance.euclidean(mouth[13], mouth[19])\n",
    "    B = distance.euclidean(mouth[14], mouth[18])\n",
    "    C = distance.euclidean(mouth[15], mouth[17])\n",
    "    MAR = (A + B + C) / 3.0\n",
    "    return MAR"
   ]
  },
  {
   "cell_type": "code",
   "execution_count": null,
   "id": "composite-century",
   "metadata": {},
   "outputs": [],
   "source": [
    "cap = cv2.VideoCapture(0)\n",
    "hog_face_detector = dlib.get_frontal_face_detector()\n",
    "dlib_facelandmark = dlib.shape_predictor(\"shape_predictor_68_face_landmarks.dat\")\n",
    "MAR_THRESHOLD = 14\n",
    "eye_blink = 0\n",
    "frame_continue = 60\n",
    "sleep = 0"
   ]
  },
  {
   "cell_type": "code",
   "execution_count": 5,
   "id": "successful-pittsburgh",
   "metadata": {
    "scrolled": true
   },
   "outputs": [],
   "source": [
    "while True:\n",
    "    _, frame = cap.read()\n",
    "    gray = cv2.cvtColor(frame, cv2.COLOR_BGR2GRAY)\n",
    "    faces = hog_face_detector(gray)\n",
    "    for face in faces:\n",
    "        face_landmarks = dlib_facelandmark(gray, face)\n",
    "        leftEye = []\n",
    "        rightEye = []\n",
    "        mouth = []\n",
    "        \n",
    "        for n in range(36,42):\n",
    "            x = face_landmarks.part(n).x\n",
    "            y = face_landmarks.part(n).y\n",
    "            leftEye.append((x,y))\n",
    "            next_point = n+1\n",
    "            if n == 41:\n",
    "                next_point = 36\n",
    "            x2 = face_landmarks.part(next_point).x\n",
    "            y2 = face_landmarks.part(next_point).y\n",
    "            cv2.line(frame,(x,y),(x2,y2),(0,255,0),1)\n",
    "\n",
    "        for n in range(42,48):\n",
    "            x = face_landmarks.part(n).x\n",
    "            y = face_landmarks.part(n).y\n",
    "            rightEye.append((x,y))\n",
    "            next_point = n+1\n",
    "            if n == 47:\n",
    "                next_point = 42\n",
    "            x2 = face_landmarks.part(next_point).x\n",
    "            y2 = face_landmarks.part(next_point).y\n",
    "            cv2.line(frame,(x,y),(x2,y2),(0,255,0),1)\n",
    "            \n",
    "        for n in range(48,68):\n",
    "            x = face_landmarks.part(n).x\n",
    "            y = face_landmarks.part(n).y\n",
    "            mouth.append((x,y))\n",
    "            next_point = n+1\n",
    "            if n == 67:\n",
    "                next_point = 48\n",
    "            x2 = face_landmarks.part(next_point).x\n",
    "            y2 = face_landmarks.part(next_point).y\n",
    "            cv2.line(frame,(x,y),(x2,y2),(0,255,0),1)\n",
    "\n",
    "        left_ear = calculate_EAR(leftEye)\n",
    "        right_ear = calculate_EAR(rightEye)\n",
    "\n",
    "        EAR = (left_ear+right_ear)/2\n",
    "        EAR = round(EAR,2)\n",
    "        if EAR<0.18:\n",
    "            eye_blink += 1\n",
    "            if eye_blink >= frame_continue:\n",
    "                sleep += 1\n",
    "                cv2.imwrite(\"dataset/sleep%d.jpg\" % sleep, frame)\n",
    "                cv2.putText(frame,\"DROWSY\",(20,100),cv2.FONT_HERSHEY_SIMPLEX,3,(0,0,255),4)\n",
    "                playsound('sound files/sleep.mp3')\n",
    "                print(\"dontsleep\")\n",
    "            print(EAR)\n",
    "        \n",
    "        mouth_mar = calculate_MAR(mouth)\n",
    "        if mouth_mar > MAR_THRESHOLD:\n",
    "            playsound('sound files/yawn.mp3')\n",
    "            cv2.putText(frame, \"you are yawning\", (10, 400), cv2.FONT_HERSHEY_SIMPLEX,3, (0, 0, 255),4)\n",
    "            \n",
    "       \n",
    "    cv2.imshow(\"how you are feeling\", frame)\n",
    "\n",
    "    key = cv2.waitKey(1)\n",
    "    \n",
    "    if key == 27:\n",
    "        break\n",
    "cap.release()\n",
    "cv2.destroyAllWindows()"
   ]
  },
  {
   "cell_type": "code",
   "execution_count": null,
   "id": "alert-malaysia",
   "metadata": {},
   "outputs": [],
   "source": []
  },
  {
   "cell_type": "code",
   "execution_count": null,
   "id": "worth-rendering",
   "metadata": {},
   "outputs": [],
   "source": []
  },
  {
   "cell_type": "code",
   "execution_count": null,
   "id": "close-absorption",
   "metadata": {},
   "outputs": [],
   "source": []
  },
  {
   "cell_type": "code",
   "execution_count": null,
   "id": "american-cross",
   "metadata": {},
   "outputs": [],
   "source": []
  }
 ],
 "metadata": {
  "kernelspec": {
   "display_name": "Python 3",
   "language": "python",
   "name": "python3"
  },
  "language_info": {
   "codemirror_mode": {
    "name": "ipython",
    "version": 3
   },
   "file_extension": ".py",
   "mimetype": "text/x-python",
   "name": "python",
   "nbconvert_exporter": "python",
   "pygments_lexer": "ipython3",
   "version": "3.7.3"
  }
 },
 "nbformat": 4,
 "nbformat_minor": 5
}
